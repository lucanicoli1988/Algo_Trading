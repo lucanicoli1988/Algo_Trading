{
 "cells": [
  {
   "cell_type": "code",
   "execution_count": 1,
   "metadata": {
    "collapsed": true
   },
   "outputs": [],
   "source": [
    "# Import libraries\n",
    "\n",
    "import pandas as pd\n",
    "import pymssql\n",
    "import talib as ta\n",
    "import numpy as np\n",
    "\n",
    "from sklearn.model_selection import train_test_split\n",
    "from sklearn.ensemble import RandomForestClassifier\n",
    "\n",
    "import matplotlib.pyplot as plt\n",
    "%matplotlib notebook"
   ]
  },
  {
   "cell_type": "code",
   "execution_count": 2,
   "metadata": {
    "collapsed": true
   },
   "outputs": [],
   "source": [
    "market = 'Brent'  # TTF or NBP\n",
    "\n",
    "if market == 'Brent':\n",
    "    ric = 'CO1 Comdty'\n",
    "elif market == 'TTF':\n",
    "    ric = 'TTFG1MON Index'\n",
    "elif market == 'NBP':\n",
    "    ric = 'NBPG1MON Index'\n",
    "else:\n",
    "    print('Market is not find!')\n",
    "    \n",
    "user = 'INNOWATIO\\luca.nicoli'\n",
    "pwd = 'Middle1992'\n",
    "server = 'ser-sviluppo'\n",
    "db = 'Middle'\n",
    "\n",
    "query = \"select * from algo_EndOfDayPrices\"\n",
    "\n",
    "with pymssql.connect(server, user, pwd, db) as conn:\n",
    "    df = pd.read_sql(query, conn)\n",
    "    \n",
    "df_1 = df[df['Ticker'] == ric]\n",
    "df_1 = df_1.pivot(index='RefDay', columns='PriceType', values='Value')\n",
    "df_1 = df_1[df_1.index >= '2014-01-01']\n",
    "df_1.rename(columns={'PX_SETTLE': 'close', 'PX_OPEN': 'open', 'PX_HIGH': 'high', 'PX_LOW': 'low', 'PX_VOLUME':'volume'}, inplace=True)\n",
    "df_1.dropna(inplace=True)\n",
    "\n",
    "df_smothed = df_1.ewm(alpha=0.1).mean()\n",
    "df_smothed['Smoothed_target'] = df_smothed['close'].diff().apply(lambda x: +1 if x > 0 else -1).shift(-1)\n",
    "df_smothed['target'] = df_1['close'].diff().apply(lambda x: +1 if x > 0 else -1).shift(-1)\n"
   ]
  },
  {
   "cell_type": "code",
   "execution_count": 3,
   "metadata": {
    "collapsed": true
   },
   "outputs": [],
   "source": [
    "# Indicators\n",
    "\n",
    "df_smothed['RSI'] = ta.abstract.RSI(df_smothed, timeperiod = 14)\n",
    "df_smothed['Stock'] = ta.abstract.STOCH(df_smothed)['slowk']\n",
    "df_smothed['Will'] = ta.abstract.WILLR(df_smothed)\n",
    "df_smothed['MACD'] = ta.abstract.MACD(df_smothed)['macd']\n",
    "df_smothed['POC'] = ta.abstract.ROC(df_smothed)\n",
    "df_smothed['Balance_volume'] = ta.abstract.OBV(df_smothed)\n",
    "\n",
    "df_smothed.dropna(inplace=True)\n",
    "df_smothed_x = df_smothed[['RSI', 'Stock', 'Will', 'MACD', 'POC', 'Balance_volume']]\n",
    "df_smothed_y = df_smothed['Smoothed_target']\n",
    "df_y = df_smothed['target']\n"
   ]
  },
  {
   "cell_type": "code",
   "execution_count": null,
   "metadata": {
    "collapsed": true
   },
   "outputs": [],
   "source": [
    "X_train, X_test, y_train, y_test = train_test_split(df_smothed_x, df_smothed_y)\n",
    "clf = RandomForestClassifier(n_jobs=-1, n_estimators= 10).fit(X_train, y_train)\n",
    "\n",
    "predict_y = clf.predict(X_test)\n",
    "print('Accuracy of RF classifier on training set: {:.2f}'\n",
    "     .format(clf.score(X_train, y_train)))\n",
    "print('Accuracy of RF classifier on test set: {:.2f}'\n",
    "     .format(clf.score(X_test, y_test)))\n"
   ]
  },
  {
   "cell_type": "code",
   "execution_count": 16,
   "metadata": {},
   "outputs": [
    {
     "name": "stdout",
     "output_type": "stream",
     "text": [
      "Accuracy of RF classifier on training set: 0.93\n",
      "Accuracy of RF classifier on test set: 0.47\n"
     ]
    }
   ],
   "source": [
    "X_train, X_test, y_train, y_test = train_test_split(df_smothed_x, df_y)\n",
    "                                                                   \n",
    "clf = RandomForestClassifier(n_jobs=-1, n_estimators= 5).fit(X_train, y_train)\n",
    "\n",
    "predict_y = clf.predict(X_test)\n",
    "print('Accuracy of RF classifier on training set: {:.2f}'\n",
    "     .format(clf.score(X_train, y_train)))\n",
    "print('Accuracy of RF classifier on test set: {:.2f}'\n",
    "     .format(clf.score(X_test, y_test)))"
   ]
  },
  {
   "cell_type": "code",
   "execution_count": null,
   "metadata": {
    "collapsed": true
   },
   "outputs": [],
   "source": [
    "from sklearn.metrics import confusion_matrix\n",
    "confusion = confusion_matrix(y_test, predict_y)\n",
    "print('Random forest classifier (linear kernel, C=1)\\n', confusion)"
   ]
  },
  {
   "cell_type": "code",
   "execution_count": null,
   "metadata": {
    "collapsed": true
   },
   "outputs": [],
   "source": [
    "alphas = np.linspace(0.1, 1.0, 10)\n",
    "scores = {}\n",
    "final_scores = []\n",
    "score = []\n",
    "\n",
    "scores = pd.DataFrame(columns=['R', 'Score'])\n",
    "\n",
    "for al in alphas:\n",
    "    for r in range(0,10):\n",
    "        df_smothed = df_1.ewm(alpha=al).mean()\n",
    "        df_smothed['Smoothed_target'] = df_smothed['close'].diff().apply(lambda x: +1 if x > 0 else -1).shift(-1)\n",
    "        df_smothed['RSI'] = ta.abstract.RSI(df_smothed, timeperiod = 14)\n",
    "        df_smothed['Stock'] = ta.abstract.STOCH(df_smothed)['slowk']\n",
    "        df_smothed['Will'] = ta.abstract.WILLR(df_smothed)\n",
    "        df_smothed['MACD'] = ta.abstract.MACD(df_smothed)['macd']\n",
    "        df_smothed['POC'] = ta.abstract.ROC(df_smothed)\n",
    "        df_smothed['Balance_volume'] = ta.abstract.OBV(df_smothed)\n",
    "\n",
    "        df_smothed.dropna(inplace=True)\n",
    "        df_smothed_x = df_smothed[['RSI', 'Stock', 'Will', 'MACD', 'POC', 'Balance_volume']]\n",
    "        df_smothed_y = df_smothed['Smoothed_target']\n",
    "\n",
    "        X_train, X_test, y_train, y_test = train_test_split(df_smothed_x, df_smothed_y)\n",
    "        clf = RandomForestClassifier(n_jobs=-1, n_estimators= 10).fit(X_train, y_train)\n",
    "        score_r = clf.score(X_test, y_test)\n",
    "        score.append(score_r)\n",
    "    mean = np.mean(score)\n",
    "    final_scores.append(mean)\n"
   ]
  },
  {
   "cell_type": "code",
   "execution_count": null,
   "metadata": {
    "collapsed": true
   },
   "outputs": [],
   "source": [
    "alphas.shape = (10,)\n",
    "\n",
    "fig = plt.figure()\n",
    "plt.plot(alphas, final_scores)\n",
    "plt.xlabel('Alpha for smoothing')\n",
    "plt.ylabel('Average Accuracy on Test set (%)')\n",
    "plt.title('Average accuracy for Random Forest')\n",
    "plt.tight_layout()"
   ]
  },
  {
   "cell_type": "code",
   "execution_count": null,
   "metadata": {
    "collapsed": true
   },
   "outputs": [],
   "source": []
  }
 ],
 "metadata": {
  "hide_input": false,
  "kernelspec": {
   "display_name": "Python [conda root]",
   "language": "python",
   "name": "conda-root-py"
  },
  "language_info": {
   "codemirror_mode": {
    "name": "ipython",
    "version": 3
   },
   "file_extension": ".py",
   "mimetype": "text/x-python",
   "name": "python",
   "nbconvert_exporter": "python",
   "pygments_lexer": "ipython3",
   "version": "3.5.3"
  }
 },
 "nbformat": 4,
 "nbformat_minor": 2
}
